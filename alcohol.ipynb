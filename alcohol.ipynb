{
 "cells": [
  {
   "cell_type": "code",
   "execution_count": 1,
   "metadata": {},
   "outputs": [],
   "source": [
    "# Alcohol consumption vs. Life Expectancy"
   ]
  },
  {
   "cell_type": "code",
   "execution_count": 2,
   "metadata": {},
   "outputs": [],
   "source": [
    "#%matplotlib notebook"
   ]
  },
  {
   "cell_type": "code",
   "execution_count": 3,
   "metadata": {},
   "outputs": [],
   "source": [
    "#Dependencies\n",
    "import pandas as pd\n",
    "import numpy as np\n",
    "import matplotlib.pyplot as plt\n",
    "import os"
   ]
  },
  {
   "cell_type": "code",
   "execution_count": 4,
   "metadata": {},
   "outputs": [],
   "source": [
    "csvpath=os.path.join(\"Resources\", \"life_expectancy_data_region.csv\")\n",
    "life_expectancy_df = pd.read_csv(csvpath)"
   ]
  },
  {
   "cell_type": "code",
   "execution_count": 5,
   "metadata": {},
   "outputs": [
    {
     "data": {
      "text/html": [
       "<div>\n",
       "<style scoped>\n",
       "    .dataframe tbody tr th:only-of-type {\n",
       "        vertical-align: middle;\n",
       "    }\n",
       "\n",
       "    .dataframe tbody tr th {\n",
       "        vertical-align: top;\n",
       "    }\n",
       "\n",
       "    .dataframe thead th {\n",
       "        text-align: right;\n",
       "    }\n",
       "</style>\n",
       "<table border=\"1\" class=\"dataframe\">\n",
       "  <thead>\n",
       "    <tr style=\"text-align: right;\">\n",
       "      <th></th>\n",
       "      <th>Country</th>\n",
       "      <th>Year</th>\n",
       "      <th>Region</th>\n",
       "      <th>Status</th>\n",
       "      <th>Life expectancy</th>\n",
       "      <th>Adult Mortality</th>\n",
       "      <th>infant deaths</th>\n",
       "      <th>Alcohol</th>\n",
       "      <th>percentage expenditure</th>\n",
       "      <th>Hepatitis B</th>\n",
       "      <th>...</th>\n",
       "      <th>Polio</th>\n",
       "      <th>Total expenditure</th>\n",
       "      <th>Diphtheria</th>\n",
       "      <th>HIV/AIDS</th>\n",
       "      <th>GDP</th>\n",
       "      <th>Population</th>\n",
       "      <th>thinness  1-19 years</th>\n",
       "      <th>thinness 5-9 years</th>\n",
       "      <th>Income composition of resources</th>\n",
       "      <th>Schooling</th>\n",
       "    </tr>\n",
       "  </thead>\n",
       "  <tbody>\n",
       "    <tr>\n",
       "      <th>0</th>\n",
       "      <td>Afghanistan</td>\n",
       "      <td>2015</td>\n",
       "      <td>Eastern Mediterranean</td>\n",
       "      <td>Developing</td>\n",
       "      <td>65.0</td>\n",
       "      <td>263.0</td>\n",
       "      <td>62</td>\n",
       "      <td>0.01</td>\n",
       "      <td>71.279624</td>\n",
       "      <td>65.0</td>\n",
       "      <td>...</td>\n",
       "      <td>6.0</td>\n",
       "      <td>8.16</td>\n",
       "      <td>65.0</td>\n",
       "      <td>0.1</td>\n",
       "      <td>584.259210</td>\n",
       "      <td>33736494.0</td>\n",
       "      <td>17.2</td>\n",
       "      <td>17.3</td>\n",
       "      <td>0.479</td>\n",
       "      <td>10.1</td>\n",
       "    </tr>\n",
       "    <tr>\n",
       "      <th>1</th>\n",
       "      <td>Afghanistan</td>\n",
       "      <td>2014</td>\n",
       "      <td>Eastern Mediterranean</td>\n",
       "      <td>Developing</td>\n",
       "      <td>59.9</td>\n",
       "      <td>271.0</td>\n",
       "      <td>64</td>\n",
       "      <td>0.01</td>\n",
       "      <td>73.523582</td>\n",
       "      <td>62.0</td>\n",
       "      <td>...</td>\n",
       "      <td>58.0</td>\n",
       "      <td>8.18</td>\n",
       "      <td>62.0</td>\n",
       "      <td>0.1</td>\n",
       "      <td>612.696514</td>\n",
       "      <td>327582.0</td>\n",
       "      <td>17.5</td>\n",
       "      <td>17.5</td>\n",
       "      <td>0.476</td>\n",
       "      <td>10.0</td>\n",
       "    </tr>\n",
       "    <tr>\n",
       "      <th>2</th>\n",
       "      <td>Afghanistan</td>\n",
       "      <td>2013</td>\n",
       "      <td>Eastern Mediterranean</td>\n",
       "      <td>Developing</td>\n",
       "      <td>59.9</td>\n",
       "      <td>268.0</td>\n",
       "      <td>66</td>\n",
       "      <td>0.01</td>\n",
       "      <td>73.219243</td>\n",
       "      <td>64.0</td>\n",
       "      <td>...</td>\n",
       "      <td>62.0</td>\n",
       "      <td>8.13</td>\n",
       "      <td>64.0</td>\n",
       "      <td>0.1</td>\n",
       "      <td>631.744976</td>\n",
       "      <td>31731688.0</td>\n",
       "      <td>17.7</td>\n",
       "      <td>17.7</td>\n",
       "      <td>0.470</td>\n",
       "      <td>9.9</td>\n",
       "    </tr>\n",
       "    <tr>\n",
       "      <th>3</th>\n",
       "      <td>Afghanistan</td>\n",
       "      <td>2012</td>\n",
       "      <td>Eastern Mediterranean</td>\n",
       "      <td>Developing</td>\n",
       "      <td>59.5</td>\n",
       "      <td>272.0</td>\n",
       "      <td>69</td>\n",
       "      <td>0.01</td>\n",
       "      <td>78.184215</td>\n",
       "      <td>67.0</td>\n",
       "      <td>...</td>\n",
       "      <td>67.0</td>\n",
       "      <td>8.52</td>\n",
       "      <td>67.0</td>\n",
       "      <td>0.1</td>\n",
       "      <td>669.959000</td>\n",
       "      <td>3696958.0</td>\n",
       "      <td>17.9</td>\n",
       "      <td>18.0</td>\n",
       "      <td>0.463</td>\n",
       "      <td>9.8</td>\n",
       "    </tr>\n",
       "    <tr>\n",
       "      <th>4</th>\n",
       "      <td>Afghanistan</td>\n",
       "      <td>2011</td>\n",
       "      <td>Eastern Mediterranean</td>\n",
       "      <td>Developing</td>\n",
       "      <td>59.2</td>\n",
       "      <td>275.0</td>\n",
       "      <td>71</td>\n",
       "      <td>0.01</td>\n",
       "      <td>7.097109</td>\n",
       "      <td>68.0</td>\n",
       "      <td>...</td>\n",
       "      <td>68.0</td>\n",
       "      <td>7.87</td>\n",
       "      <td>68.0</td>\n",
       "      <td>0.1</td>\n",
       "      <td>63.537231</td>\n",
       "      <td>2978599.0</td>\n",
       "      <td>18.2</td>\n",
       "      <td>18.2</td>\n",
       "      <td>0.454</td>\n",
       "      <td>9.5</td>\n",
       "    </tr>\n",
       "  </tbody>\n",
       "</table>\n",
       "<p>5 rows × 23 columns</p>\n",
       "</div>"
      ],
      "text/plain": [
       "       Country  Year                 Region      Status  Life expectancy   \\\n",
       "0  Afghanistan  2015  Eastern Mediterranean  Developing              65.0   \n",
       "1  Afghanistan  2014  Eastern Mediterranean  Developing              59.9   \n",
       "2  Afghanistan  2013  Eastern Mediterranean  Developing              59.9   \n",
       "3  Afghanistan  2012  Eastern Mediterranean  Developing              59.5   \n",
       "4  Afghanistan  2011  Eastern Mediterranean  Developing              59.2   \n",
       "\n",
       "   Adult Mortality  infant deaths  Alcohol  percentage expenditure  \\\n",
       "0            263.0             62     0.01               71.279624   \n",
       "1            271.0             64     0.01               73.523582   \n",
       "2            268.0             66     0.01               73.219243   \n",
       "3            272.0             69     0.01               78.184215   \n",
       "4            275.0             71     0.01                7.097109   \n",
       "\n",
       "   Hepatitis B  ...  Polio  Total expenditure  Diphtheria    HIV/AIDS  \\\n",
       "0         65.0  ...    6.0               8.16         65.0        0.1   \n",
       "1         62.0  ...   58.0               8.18         62.0        0.1   \n",
       "2         64.0  ...   62.0               8.13         64.0        0.1   \n",
       "3         67.0  ...   67.0               8.52         67.0        0.1   \n",
       "4         68.0  ...   68.0               7.87         68.0        0.1   \n",
       "\n",
       "          GDP  Population   thinness  1-19 years   thinness 5-9 years  \\\n",
       "0  584.259210  33736494.0                   17.2                 17.3   \n",
       "1  612.696514    327582.0                   17.5                 17.5   \n",
       "2  631.744976  31731688.0                   17.7                 17.7   \n",
       "3  669.959000   3696958.0                   17.9                 18.0   \n",
       "4   63.537231   2978599.0                   18.2                 18.2   \n",
       "\n",
       "   Income composition of resources  Schooling  \n",
       "0                            0.479       10.1  \n",
       "1                            0.476       10.0  \n",
       "2                            0.470        9.9  \n",
       "3                            0.463        9.8  \n",
       "4                            0.454        9.5  \n",
       "\n",
       "[5 rows x 23 columns]"
      ]
     },
     "execution_count": 5,
     "metadata": {},
     "output_type": "execute_result"
    }
   ],
   "source": [
    "# Review the counts for \"  \"Country\", \"Year\", \"Status\", \"life Expectancy\" and Alcohol\" \n",
    "# Take a look at the record counts for the columns needed for this project phase.\n",
    "life_expectancy_df.head()"
   ]
  },
  {
   "cell_type": "code",
   "execution_count": 6,
   "metadata": {},
   "outputs": [
    {
     "data": {
      "text/plain": [
       "Country                            2938\n",
       "Year                               2938\n",
       "Region                             2938\n",
       "Status                             2938\n",
       "Life expectancy                    2928\n",
       "Adult Mortality                    2928\n",
       "infant deaths                      2938\n",
       "Alcohol                            2744\n",
       "percentage expenditure             2938\n",
       "Hepatitis B                        2385\n",
       "Measles                            2938\n",
       " BMI                               2904\n",
       "under-five deaths                  2938\n",
       "Polio                              2919\n",
       "Total expenditure                  2712\n",
       "Diphtheria                         2919\n",
       " HIV/AIDS                          2938\n",
       "GDP                                2490\n",
       "Population                         2286\n",
       " thinness  1-19 years              2904\n",
       " thinness 5-9 years                2904\n",
       "Income composition of resources    2771\n",
       "Schooling                          2775\n",
       "dtype: int64"
      ]
     },
     "execution_count": 6,
     "metadata": {},
     "output_type": "execute_result"
    }
   ],
   "source": [
    "# Data Cleaning\n",
    "life_expectancy_df.count()"
   ]
  },
  {
   "cell_type": "raw",
   "metadata": {},
   "source": [
    "# At first glance above:  Country, Year Region and Status show 2,938 rows\n",
    "#                         \"Life expectancy\" shows 2,928 rows\n",
    "#                         \"Alcohol\" shows 2,744 rows"
   ]
  },
  {
   "cell_type": "code",
   "execution_count": 7,
   "metadata": {},
   "outputs": [
    {
     "data": {
      "text/plain": [
       "Country                            2735\n",
       "Year                               2735\n",
       "Region                             2735\n",
       "Status                             2735\n",
       "Life expectancy                    2735\n",
       "Adult Mortality                    2735\n",
       "infant deaths                      2735\n",
       "Alcohol                            2735\n",
       "percentage expenditure             2735\n",
       "Hepatitis B                        2205\n",
       "Measles                            2735\n",
       " BMI                               2720\n",
       "under-five deaths                  2735\n",
       "Polio                              2728\n",
       "Total expenditure                  2698\n",
       "Diphtheria                         2728\n",
       " HIV/AIDS                          2735\n",
       "GDP                                2328\n",
       "Population                         2129\n",
       " thinness  1-19 years              2720\n",
       " thinness 5-9 years                2720\n",
       "Income composition of resources    2584\n",
       "Schooling                          2584\n",
       "dtype: int64"
      ]
     },
     "execution_count": 7,
     "metadata": {},
     "output_type": "execute_result"
    }
   ],
   "source": [
    "# Drop any rows having missing information in the following columns: Country, Year, Region, Status, Alchohol \n",
    "life_expectancy_clean_df = life_expectancy_df.dropna(subset=[\"Country\", \"Year\", \"Region\", \"Status\", \"Life expectancy \", \"Alcohol\"])\n",
    "                                                            \n",
    "# Recheck the counts for the needed columns                                               \n",
    "life_expectancy_clean_df.count()"
   ]
  },
  {
   "cell_type": "code",
   "execution_count": 8,
   "metadata": {},
   "outputs": [],
   "source": [
    "# After dropping the rows with missing information in these columns, all fields have 2,735 rows"
   ]
  },
  {
   "cell_type": "code",
   "execution_count": 9,
   "metadata": {},
   "outputs": [],
   "source": [
    " # Rename fields to conform to the desired column header\n",
    "life_expectancy_clean_df = life_expectancy_clean_df.rename(columns={\"Life expectancy \": \"Life Expectancy\"})\n"
   ]
  },
  {
   "cell_type": "code",
   "execution_count": 10,
   "metadata": {},
   "outputs": [
    {
     "data": {
      "text/html": [
       "<div>\n",
       "<style scoped>\n",
       "    .dataframe tbody tr th:only-of-type {\n",
       "        vertical-align: middle;\n",
       "    }\n",
       "\n",
       "    .dataframe tbody tr th {\n",
       "        vertical-align: top;\n",
       "    }\n",
       "\n",
       "    .dataframe thead th {\n",
       "        text-align: right;\n",
       "    }\n",
       "</style>\n",
       "<table border=\"1\" class=\"dataframe\">\n",
       "  <thead>\n",
       "    <tr style=\"text-align: right;\">\n",
       "      <th></th>\n",
       "      <th>Country</th>\n",
       "      <th>Year</th>\n",
       "      <th>Status</th>\n",
       "      <th>Life Expectancy</th>\n",
       "      <th>Alcohol</th>\n",
       "    </tr>\n",
       "  </thead>\n",
       "  <tbody>\n",
       "    <tr>\n",
       "      <th>0</th>\n",
       "      <td>Afghanistan</td>\n",
       "      <td>2015</td>\n",
       "      <td>Developing</td>\n",
       "      <td>65.0</td>\n",
       "      <td>0.01</td>\n",
       "    </tr>\n",
       "    <tr>\n",
       "      <th>1</th>\n",
       "      <td>Afghanistan</td>\n",
       "      <td>2014</td>\n",
       "      <td>Developing</td>\n",
       "      <td>59.9</td>\n",
       "      <td>0.01</td>\n",
       "    </tr>\n",
       "    <tr>\n",
       "      <th>2</th>\n",
       "      <td>Afghanistan</td>\n",
       "      <td>2013</td>\n",
       "      <td>Developing</td>\n",
       "      <td>59.9</td>\n",
       "      <td>0.01</td>\n",
       "    </tr>\n",
       "    <tr>\n",
       "      <th>3</th>\n",
       "      <td>Afghanistan</td>\n",
       "      <td>2012</td>\n",
       "      <td>Developing</td>\n",
       "      <td>59.5</td>\n",
       "      <td>0.01</td>\n",
       "    </tr>\n",
       "    <tr>\n",
       "      <th>4</th>\n",
       "      <td>Afghanistan</td>\n",
       "      <td>2011</td>\n",
       "      <td>Developing</td>\n",
       "      <td>59.2</td>\n",
       "      <td>0.01</td>\n",
       "    </tr>\n",
       "    <tr>\n",
       "      <th>...</th>\n",
       "      <td>...</td>\n",
       "      <td>...</td>\n",
       "      <td>...</td>\n",
       "      <td>...</td>\n",
       "      <td>...</td>\n",
       "    </tr>\n",
       "    <tr>\n",
       "      <th>2933</th>\n",
       "      <td>Zimbabwe</td>\n",
       "      <td>2004</td>\n",
       "      <td>Developing</td>\n",
       "      <td>44.3</td>\n",
       "      <td>4.36</td>\n",
       "    </tr>\n",
       "    <tr>\n",
       "      <th>2934</th>\n",
       "      <td>Zimbabwe</td>\n",
       "      <td>2003</td>\n",
       "      <td>Developing</td>\n",
       "      <td>44.5</td>\n",
       "      <td>4.06</td>\n",
       "    </tr>\n",
       "    <tr>\n",
       "      <th>2935</th>\n",
       "      <td>Zimbabwe</td>\n",
       "      <td>2002</td>\n",
       "      <td>Developing</td>\n",
       "      <td>44.8</td>\n",
       "      <td>4.43</td>\n",
       "    </tr>\n",
       "    <tr>\n",
       "      <th>2936</th>\n",
       "      <td>Zimbabwe</td>\n",
       "      <td>2001</td>\n",
       "      <td>Developing</td>\n",
       "      <td>45.3</td>\n",
       "      <td>1.72</td>\n",
       "    </tr>\n",
       "    <tr>\n",
       "      <th>2937</th>\n",
       "      <td>Zimbabwe</td>\n",
       "      <td>2000</td>\n",
       "      <td>Developing</td>\n",
       "      <td>46.0</td>\n",
       "      <td>1.68</td>\n",
       "    </tr>\n",
       "  </tbody>\n",
       "</table>\n",
       "<p>2735 rows × 5 columns</p>\n",
       "</div>"
      ],
      "text/plain": [
       "          Country  Year      Status  Life Expectancy  Alcohol\n",
       "0     Afghanistan  2015  Developing             65.0     0.01\n",
       "1     Afghanistan  2014  Developing             59.9     0.01\n",
       "2     Afghanistan  2013  Developing             59.9     0.01\n",
       "3     Afghanistan  2012  Developing             59.5     0.01\n",
       "4     Afghanistan  2011  Developing             59.2     0.01\n",
       "...           ...   ...         ...              ...      ...\n",
       "2933     Zimbabwe  2004  Developing             44.3     4.36\n",
       "2934     Zimbabwe  2003  Developing             44.5     4.06\n",
       "2935     Zimbabwe  2002  Developing             44.8     4.43\n",
       "2936     Zimbabwe  2001  Developing             45.3     1.72\n",
       "2937     Zimbabwe  2000  Developing             46.0     1.68\n",
       "\n",
       "[2735 rows x 5 columns]"
      ]
     },
     "execution_count": 10,
     "metadata": {},
     "output_type": "execute_result"
    }
   ],
   "source": [
    "#Extract the fields needed for the alcohol to life expectancy comparison\n",
    "life_expectancy_clean_df = life_expectancy_clean_df[[\"Country\", \"Year\", \"Status\", \"Life Expectancy\", \"Alcohol\"]]\n",
    "life_expectancy_clean_df"
   ]
  },
  {
   "cell_type": "code",
   "execution_count": 11,
   "metadata": {},
   "outputs": [
    {
     "data": {
      "text/html": [
       "<div>\n",
       "<style scoped>\n",
       "    .dataframe tbody tr th:only-of-type {\n",
       "        vertical-align: middle;\n",
       "    }\n",
       "\n",
       "    .dataframe tbody tr th {\n",
       "        vertical-align: top;\n",
       "    }\n",
       "\n",
       "    .dataframe thead th {\n",
       "        text-align: right;\n",
       "    }\n",
       "</style>\n",
       "<table border=\"1\" class=\"dataframe\">\n",
       "  <thead>\n",
       "    <tr style=\"text-align: right;\">\n",
       "      <th></th>\n",
       "      <th>Life Expectancy</th>\n",
       "      <th>Alcohol</th>\n",
       "    </tr>\n",
       "    <tr>\n",
       "      <th>Country</th>\n",
       "      <th></th>\n",
       "      <th></th>\n",
       "    </tr>\n",
       "  </thead>\n",
       "  <tbody>\n",
       "    <tr>\n",
       "      <th>Afghanistan</th>\n",
       "      <td>58.193750</td>\n",
       "      <td>0.014375</td>\n",
       "    </tr>\n",
       "    <tr>\n",
       "      <th>Albania</th>\n",
       "      <td>75.156250</td>\n",
       "      <td>4.848750</td>\n",
       "    </tr>\n",
       "    <tr>\n",
       "      <th>Algeria</th>\n",
       "      <td>73.486667</td>\n",
       "      <td>0.406667</td>\n",
       "    </tr>\n",
       "    <tr>\n",
       "      <th>Angola</th>\n",
       "      <td>48.793333</td>\n",
       "      <td>5.740667</td>\n",
       "    </tr>\n",
       "    <tr>\n",
       "      <th>Antigua and Barbuda</th>\n",
       "      <td>74.966667</td>\n",
       "      <td>7.949333</td>\n",
       "    </tr>\n",
       "  </tbody>\n",
       "</table>\n",
       "</div>"
      ],
      "text/plain": [
       "                     Life Expectancy   Alcohol\n",
       "Country                                       \n",
       "Afghanistan                58.193750  0.014375\n",
       "Albania                    75.156250  4.848750\n",
       "Algeria                    73.486667  0.406667\n",
       "Angola                     48.793333  5.740667\n",
       "Antigua and Barbuda        74.966667  7.949333"
      ]
     },
     "execution_count": 11,
     "metadata": {},
     "output_type": "execute_result"
    }
   ],
   "source": [
    "#Group by the Countries for ease of selection for comparison between Life Expectancy and Alcohol for all countries\n",
    "group_by_country_df = life_expectancy_clean_df.groupby([\"Country\"]).mean()\n",
    "group_country_df = group_by_country_df[[\"Life Expectancy\", \"Alcohol\"]]\n",
    "del group_by_country_df[\"Year\"]\n",
    "group_by_country_df.head()\n",
    "\n",
    " "
   ]
  },
  {
   "cell_type": "code",
   "execution_count": 12,
   "metadata": {},
   "outputs": [
    {
     "data": {
      "text/plain": [
       "Country\n",
       "Afghanistan                           58.193750\n",
       "Albania                               75.156250\n",
       "Algeria                               73.486667\n",
       "Angola                                48.793333\n",
       "Antigua and Barbuda                   74.966667\n",
       "                                        ...    \n",
       "Venezuela (Bolivarian Republic of)    73.340000\n",
       "Viet Nam                              74.693333\n",
       "Yemen                                 63.740000\n",
       "Zambia                                53.380000\n",
       "Zimbabwe                              49.386667\n",
       "Name: Life Expectancy, Length: 182, dtype: float64"
      ]
     },
     "execution_count": 12,
     "metadata": {},
     "output_type": "execute_result"
    }
   ],
   "source": [
    "avg_life_exp = group_by_country_df[\"Life Expectancy\"]\n",
    "avg_life_exp"
   ]
  },
  {
   "cell_type": "code",
   "execution_count": 13,
   "metadata": {},
   "outputs": [
    {
     "data": {
      "text/plain": [
       "Country\n",
       "Afghanistan                           0.014375\n",
       "Albania                               4.848750\n",
       "Algeria                               0.406667\n",
       "Angola                                5.740667\n",
       "Antigua and Barbuda                   7.949333\n",
       "                                        ...   \n",
       "Venezuela (Bolivarian Republic of)    7.420000\n",
       "Viet Nam                              3.087333\n",
       "Yemen                                 0.047333\n",
       "Zambia                                2.239333\n",
       "Zimbabwe                              4.482000\n",
       "Name: Alcohol, Length: 182, dtype: float64"
      ]
     },
     "execution_count": 13,
     "metadata": {},
     "output_type": "execute_result"
    }
   ],
   "source": [
    "avg_alcohol = group_by_country_df[\"Alcohol\"]\n",
    "avg_alcohol\n"
   ]
  },
  {
   "cell_type": "code",
   "execution_count": 14,
   "metadata": {},
   "outputs": [
    {
     "data": {
      "image/png": "[encoded data removed]",
      "text/plain": [
       "<Figure size 432x288 with 1 Axes>"
      ]
     },
     "metadata": {
      "needs_background": "light"
     },
     "output_type": "display_data"
    }
   ],
   "source": [
    "x_axis = avg_alcohol\n",
    "y_axis = avg_life_exp\n",
    "\n",
    "plt.scatter(x_axis, y_axis)\n",
    "\n",
    "#Title and labels\n",
    "plt.title(\"Alcohol Consumption vs Life Expectancy Averages for ALL Countries\")\n",
    "plt.xlabel(\"Alcohol Consumption (in litres of pure alcohol)\")\n",
    "plt.ylabel(\"Life Expectancy\")\n",
    "\n",
    "plt.show()                         \n"
   ]
  },
  {
   "cell_type": "code",
   "execution_count": 15,
   "metadata": {},
   "outputs": [
    {
     "data": {
      "text/plain": [
       "<Figure size 432x288 with 0 Axes>"
      ]
     },
     "metadata": {},
     "output_type": "display_data"
    }
   ],
   "source": [
    "plt.savefig(\"Images/scatter_average_all_countries.png\") "
   ]
  },
  {
   "cell_type": "code",
   "execution_count": 16,
   "metadata": {},
   "outputs": [
    {
     "data": {
      "text/html": [
       "<div>\n",
       "<style scoped>\n",
       "    .dataframe tbody tr th:only-of-type {\n",
       "        vertical-align: middle;\n",
       "    }\n",
       "\n",
       "    .dataframe tbody tr th {\n",
       "        vertical-align: top;\n",
       "    }\n",
       "\n",
       "    .dataframe thead th {\n",
       "        text-align: right;\n",
       "    }\n",
       "</style>\n",
       "<table border=\"1\" class=\"dataframe\">\n",
       "  <thead>\n",
       "    <tr style=\"text-align: right;\">\n",
       "      <th></th>\n",
       "      <th>Country</th>\n",
       "      <th>Year</th>\n",
       "      <th>Status</th>\n",
       "      <th>Life Expectancy</th>\n",
       "      <th>Alcohol</th>\n",
       "    </tr>\n",
       "  </thead>\n",
       "  <tbody>\n",
       "    <tr>\n",
       "      <th>0</th>\n",
       "      <td>Afghanistan</td>\n",
       "      <td>2015</td>\n",
       "      <td>Developing</td>\n",
       "      <td>65.0</td>\n",
       "      <td>0.01</td>\n",
       "    </tr>\n",
       "    <tr>\n",
       "      <th>1</th>\n",
       "      <td>Afghanistan</td>\n",
       "      <td>2014</td>\n",
       "      <td>Developing</td>\n",
       "      <td>59.9</td>\n",
       "      <td>0.01</td>\n",
       "    </tr>\n",
       "    <tr>\n",
       "      <th>2</th>\n",
       "      <td>Afghanistan</td>\n",
       "      <td>2013</td>\n",
       "      <td>Developing</td>\n",
       "      <td>59.9</td>\n",
       "      <td>0.01</td>\n",
       "    </tr>\n",
       "    <tr>\n",
       "      <th>3</th>\n",
       "      <td>Afghanistan</td>\n",
       "      <td>2012</td>\n",
       "      <td>Developing</td>\n",
       "      <td>59.5</td>\n",
       "      <td>0.01</td>\n",
       "    </tr>\n",
       "    <tr>\n",
       "      <th>4</th>\n",
       "      <td>Afghanistan</td>\n",
       "      <td>2011</td>\n",
       "      <td>Developing</td>\n",
       "      <td>59.2</td>\n",
       "      <td>0.01</td>\n",
       "    </tr>\n",
       "    <tr>\n",
       "      <th>...</th>\n",
       "      <td>...</td>\n",
       "      <td>...</td>\n",
       "      <td>...</td>\n",
       "      <td>...</td>\n",
       "      <td>...</td>\n",
       "    </tr>\n",
       "    <tr>\n",
       "      <th>2933</th>\n",
       "      <td>Zimbabwe</td>\n",
       "      <td>2004</td>\n",
       "      <td>Developing</td>\n",
       "      <td>44.3</td>\n",
       "      <td>4.36</td>\n",
       "    </tr>\n",
       "    <tr>\n",
       "      <th>2934</th>\n",
       "      <td>Zimbabwe</td>\n",
       "      <td>2003</td>\n",
       "      <td>Developing</td>\n",
       "      <td>44.5</td>\n",
       "      <td>4.06</td>\n",
       "    </tr>\n",
       "    <tr>\n",
       "      <th>2935</th>\n",
       "      <td>Zimbabwe</td>\n",
       "      <td>2002</td>\n",
       "      <td>Developing</td>\n",
       "      <td>44.8</td>\n",
       "      <td>4.43</td>\n",
       "    </tr>\n",
       "    <tr>\n",
       "      <th>2936</th>\n",
       "      <td>Zimbabwe</td>\n",
       "      <td>2001</td>\n",
       "      <td>Developing</td>\n",
       "      <td>45.3</td>\n",
       "      <td>1.72</td>\n",
       "    </tr>\n",
       "    <tr>\n",
       "      <th>2937</th>\n",
       "      <td>Zimbabwe</td>\n",
       "      <td>2000</td>\n",
       "      <td>Developing</td>\n",
       "      <td>46.0</td>\n",
       "      <td>1.68</td>\n",
       "    </tr>\n",
       "  </tbody>\n",
       "</table>\n",
       "<p>2735 rows × 5 columns</p>\n",
       "</div>"
      ],
      "text/plain": [
       "          Country  Year      Status  Life Expectancy  Alcohol\n",
       "0     Afghanistan  2015  Developing             65.0     0.01\n",
       "1     Afghanistan  2014  Developing             59.9     0.01\n",
       "2     Afghanistan  2013  Developing             59.9     0.01\n",
       "3     Afghanistan  2012  Developing             59.5     0.01\n",
       "4     Afghanistan  2011  Developing             59.2     0.01\n",
       "...           ...   ...         ...              ...      ...\n",
       "2933     Zimbabwe  2004  Developing             44.3     4.36\n",
       "2934     Zimbabwe  2003  Developing             44.5     4.06\n",
       "2935     Zimbabwe  2002  Developing             44.8     4.43\n",
       "2936     Zimbabwe  2001  Developing             45.3     1.72\n",
       "2937     Zimbabwe  2000  Developing             46.0     1.68\n",
       "\n",
       "[2735 rows x 5 columns]"
      ]
     },
     "execution_count": 16,
     "metadata": {},
     "output_type": "execute_result"
    }
   ],
   "source": [
    "# Plot out Afghanistan(developing country) and Hungary(developed country)\n",
    "\n",
    "life_expectancy_clean_df"
   ]
  },
  {
   "cell_type": "code",
   "execution_count": 17,
   "metadata": {},
   "outputs": [
    {
     "data": {
      "text/html": [
       "<div>\n",
       "<style scoped>\n",
       "    .dataframe tbody tr th:only-of-type {\n",
       "        vertical-align: middle;\n",
       "    }\n",
       "\n",
       "    .dataframe tbody tr th {\n",
       "        vertical-align: top;\n",
       "    }\n",
       "\n",
       "    .dataframe thead th {\n",
       "        text-align: right;\n",
       "    }\n",
       "</style>\n",
       "<table border=\"1\" class=\"dataframe\">\n",
       "  <thead>\n",
       "    <tr style=\"text-align: right;\">\n",
       "      <th></th>\n",
       "      <th>Life Expectancy</th>\n",
       "      <th>Alcohol</th>\n",
       "    </tr>\n",
       "  </thead>\n",
       "  <tbody>\n",
       "    <tr>\n",
       "      <th>0</th>\n",
       "      <td>65.0</td>\n",
       "      <td>0.01</td>\n",
       "    </tr>\n",
       "    <tr>\n",
       "      <th>1</th>\n",
       "      <td>59.9</td>\n",
       "      <td>0.01</td>\n",
       "    </tr>\n",
       "    <tr>\n",
       "      <th>2</th>\n",
       "      <td>59.9</td>\n",
       "      <td>0.01</td>\n",
       "    </tr>\n",
       "    <tr>\n",
       "      <th>3</th>\n",
       "      <td>59.5</td>\n",
       "      <td>0.01</td>\n",
       "    </tr>\n",
       "    <tr>\n",
       "      <th>4</th>\n",
       "      <td>59.2</td>\n",
       "      <td>0.01</td>\n",
       "    </tr>\n",
       "    <tr>\n",
       "      <th>5</th>\n",
       "      <td>58.8</td>\n",
       "      <td>0.01</td>\n",
       "    </tr>\n",
       "    <tr>\n",
       "      <th>6</th>\n",
       "      <td>58.6</td>\n",
       "      <td>0.01</td>\n",
       "    </tr>\n",
       "    <tr>\n",
       "      <th>7</th>\n",
       "      <td>58.1</td>\n",
       "      <td>0.03</td>\n",
       "    </tr>\n",
       "    <tr>\n",
       "      <th>8</th>\n",
       "      <td>57.5</td>\n",
       "      <td>0.02</td>\n",
       "    </tr>\n",
       "    <tr>\n",
       "      <th>9</th>\n",
       "      <td>57.3</td>\n",
       "      <td>0.03</td>\n",
       "    </tr>\n",
       "    <tr>\n",
       "      <th>10</th>\n",
       "      <td>57.3</td>\n",
       "      <td>0.02</td>\n",
       "    </tr>\n",
       "    <tr>\n",
       "      <th>11</th>\n",
       "      <td>57.0</td>\n",
       "      <td>0.02</td>\n",
       "    </tr>\n",
       "    <tr>\n",
       "      <th>12</th>\n",
       "      <td>56.7</td>\n",
       "      <td>0.01</td>\n",
       "    </tr>\n",
       "    <tr>\n",
       "      <th>13</th>\n",
       "      <td>56.2</td>\n",
       "      <td>0.01</td>\n",
       "    </tr>\n",
       "    <tr>\n",
       "      <th>14</th>\n",
       "      <td>55.3</td>\n",
       "      <td>0.01</td>\n",
       "    </tr>\n",
       "    <tr>\n",
       "      <th>15</th>\n",
       "      <td>54.8</td>\n",
       "      <td>0.01</td>\n",
       "    </tr>\n",
       "  </tbody>\n",
       "</table>\n",
       "</div>"
      ],
      "text/plain": [
       "    Life Expectancy  Alcohol\n",
       "0              65.0     0.01\n",
       "1              59.9     0.01\n",
       "2              59.9     0.01\n",
       "3              59.5     0.01\n",
       "4              59.2     0.01\n",
       "5              58.8     0.01\n",
       "6              58.6     0.01\n",
       "7              58.1     0.03\n",
       "8              57.5     0.02\n",
       "9              57.3     0.03\n",
       "10             57.3     0.02\n",
       "11             57.0     0.02\n",
       "12             56.7     0.01\n",
       "13             56.2     0.01\n",
       "14             55.3     0.01\n",
       "15             54.8     0.01"
      ]
     },
     "execution_count": 17,
     "metadata": {},
     "output_type": "execute_result"
    }
   ],
   "source": [
    "Afghanistan_developing_df = life_expectancy_clean_df.loc[(life_expectancy_clean_df[\"Country\"] == \"Afghanistan\"), :]\n",
    "\n",
    "del Afghanistan_developing_df[\"Status\"]\n",
    "del Afghanistan_developing_df[\"Country\"]\n",
    "del Afghanistan_developing_df[\"Year\"]\n",
    "Afghanistan_developing_df"
   ]
  },
  {
   "cell_type": "code",
   "execution_count": 18,
   "metadata": {},
   "outputs": [],
   "source": [
    "Afghanistan_life_e = Afghanistan_developing_df[\"Life Expectancy\"]\n",
    "Afghanistan_alcohol = Afghanistan_developing_df[\"Alcohol\"]\n"
   ]
  },
  {
   "cell_type": "code",
   "execution_count": 19,
   "metadata": {},
   "outputs": [
    {
     "data": {
      "image/png": "[encoded data removed]",
      "text/plain": [
       "<Figure size 432x288 with 1 Axes>"
      ]
     },
     "metadata": {
      "needs_background": "light"
     },
     "output_type": "display_data"
    },
    {
     "data": {
      "text/plain": [
       "<Figure size 432x288 with 0 Axes>"
      ]
     },
     "metadata": {},
     "output_type": "display_data"
    }
   ],
   "source": [
    "x_axis = Afghanistan_alcohol\n",
    "y_axis = Afghanistan_life_e \n",
    "plt.scatter(x_axis, y_axis)\n",
    "\n",
    "\n",
    "#Title and labels\n",
    "plt.title(\"Afghanistan: Alcohol Consumption vs Life Expectancy 2000 - 2015\")\n",
    "plt.xlabel(\"Alcohol Consumption (in litres of pure alcohol)\")\n",
    "plt.ylabel(\"Life Expectancy\")\n",
    "\n",
    "plt.show()\n",
    "plt.savefig(\"Images/Afghanistan_scatter_plot.png\")"
   ]
  },
  {
   "cell_type": "code",
   "execution_count": 20,
   "metadata": {},
   "outputs": [
    {
     "data": {
      "image/png": "[encoded data removed]",
      "text/plain": [
       "<Figure size 432x288 with 1 Axes>"
      ]
     },
     "metadata": {
      "needs_background": "light"
     },
     "output_type": "display_data"
    },
    {
     "data": {
      "text/plain": [
       "<Figure size 432x288 with 0 Axes>"
      ]
     },
     "metadata": {},
     "output_type": "display_data"
    }
   ],
   "source": [
    "plt.plot(Afghanistan_alcohol, Afghanistan_life_e, color=\"blue\")\n",
    "\n",
    "#Title and labels\n",
    "plt.title(\"Afghanistan: Life Expectancy vs Alcohol Consumption (Developing) 2000 - 2015\")\n",
    "plt.xlabel(\"Alcohol Consumption (in litres of pure alcohol)\")\n",
    "plt.ylabel(\"Life Expectancy (in years)\")\n",
    "\n",
    "plt.show()\n",
    "plt.savefig(\"Images/Afghanistan_line_graph.png\")\n"
   ]
  },
  {
   "cell_type": "code",
   "execution_count": 21,
   "metadata": {},
   "outputs": [
    {
     "data": {
      "text/html": [
       "<div>\n",
       "<style scoped>\n",
       "    .dataframe tbody tr th:only-of-type {\n",
       "        vertical-align: middle;\n",
       "    }\n",
       "\n",
       "    .dataframe tbody tr th {\n",
       "        vertical-align: top;\n",
       "    }\n",
       "\n",
       "    .dataframe thead th {\n",
       "        text-align: right;\n",
       "    }\n",
       "</style>\n",
       "<table border=\"1\" class=\"dataframe\">\n",
       "  <thead>\n",
       "    <tr style=\"text-align: right;\">\n",
       "      <th></th>\n",
       "      <th>Life Expectancy</th>\n",
       "      <th>Alcohol</th>\n",
       "    </tr>\n",
       "  </thead>\n",
       "  <tbody>\n",
       "    <tr>\n",
       "      <th>1155</th>\n",
       "      <td>75.6</td>\n",
       "      <td>0.01</td>\n",
       "    </tr>\n",
       "    <tr>\n",
       "      <th>1156</th>\n",
       "      <td>75.5</td>\n",
       "      <td>10.88</td>\n",
       "    </tr>\n",
       "    <tr>\n",
       "      <th>1157</th>\n",
       "      <td>75.0</td>\n",
       "      <td>11.27</td>\n",
       "    </tr>\n",
       "    <tr>\n",
       "      <th>1158</th>\n",
       "      <td>74.8</td>\n",
       "      <td>11.51</td>\n",
       "    </tr>\n",
       "    <tr>\n",
       "      <th>1159</th>\n",
       "      <td>74.5</td>\n",
       "      <td>10.78</td>\n",
       "    </tr>\n",
       "    <tr>\n",
       "      <th>1160</th>\n",
       "      <td>74.2</td>\n",
       "      <td>11.46</td>\n",
       "    </tr>\n",
       "    <tr>\n",
       "      <th>1161</th>\n",
       "      <td>74.1</td>\n",
       "      <td>11.64</td>\n",
       "    </tr>\n",
       "    <tr>\n",
       "      <th>1162</th>\n",
       "      <td>73.5</td>\n",
       "      <td>12.55</td>\n",
       "    </tr>\n",
       "    <tr>\n",
       "      <th>1163</th>\n",
       "      <td>73.4</td>\n",
       "      <td>13.16</td>\n",
       "    </tr>\n",
       "    <tr>\n",
       "      <th>1164</th>\n",
       "      <td>72.9</td>\n",
       "      <td>12.94</td>\n",
       "    </tr>\n",
       "    <tr>\n",
       "      <th>1165</th>\n",
       "      <td>72.9</td>\n",
       "      <td>13.28</td>\n",
       "    </tr>\n",
       "    <tr>\n",
       "      <th>1166</th>\n",
       "      <td>72.5</td>\n",
       "      <td>13.24</td>\n",
       "    </tr>\n",
       "    <tr>\n",
       "      <th>1167</th>\n",
       "      <td>72.5</td>\n",
       "      <td>13.29</td>\n",
       "    </tr>\n",
       "    <tr>\n",
       "      <th>1168</th>\n",
       "      <td>72.3</td>\n",
       "      <td>13.18</td>\n",
       "    </tr>\n",
       "    <tr>\n",
       "      <th>1169</th>\n",
       "      <td>71.7</td>\n",
       "      <td>12.22</td>\n",
       "    </tr>\n",
       "  </tbody>\n",
       "</table>\n",
       "</div>"
      ],
      "text/plain": [
       "      Life Expectancy  Alcohol\n",
       "1155             75.6     0.01\n",
       "1156             75.5    10.88\n",
       "1157             75.0    11.27\n",
       "1158             74.8    11.51\n",
       "1159             74.5    10.78\n",
       "1160             74.2    11.46\n",
       "1161             74.1    11.64\n",
       "1162             73.5    12.55\n",
       "1163             73.4    13.16\n",
       "1164             72.9    12.94\n",
       "1165             72.9    13.28\n",
       "1166             72.5    13.24\n",
       "1167             72.5    13.29\n",
       "1168             72.3    13.18\n",
       "1169             71.7    12.22"
      ]
     },
     "execution_count": 21,
     "metadata": {},
     "output_type": "execute_result"
    }
   ],
   "source": [
    "Hungary_developed_df = life_expectancy_clean_df.loc[(life_expectancy_clean_df[\"Country\"] == \"Hungary\"), :]\n",
    "\n",
    "del Hungary_developed_df[\"Status\"]\n",
    "del Hungary_developed_df[\"Country\"]\n",
    "del Hungary_developed_df[\"Year\"]\n",
    "\n",
    "Hungary_developed_df"
   ]
  },
  {
   "cell_type": "code",
   "execution_count": 22,
   "metadata": {},
   "outputs": [],
   "source": [
    "Hungary_life_e = Hungary_developed_df[\"Life Expectancy\"]\n",
    "Hungary_alcohol = Hungary_developed_df[\"Alcohol\"]"
   ]
  },
  {
   "cell_type": "code",
   "execution_count": 23,
   "metadata": {},
   "outputs": [
    {
     "data": {
      "image/png": "[encoded data removed]",
      "text/plain": [
       "<Figure size 432x288 with 1 Axes>"
      ]
     },
     "metadata": {
      "needs_background": "light"
     },
     "output_type": "display_data"
    },
    {
     "data": {
      "text/plain": [
       "<Figure size 432x288 with 0 Axes>"
      ]
     },
     "metadata": {},
     "output_type": "display_data"
    }
   ],
   "source": [
    "y_axis = Hungary_life_e \n",
    "x_axis = Hungary_alcohol\n",
    "plt.scatter(x_axis, y_axis)\n",
    "\n",
    "\n",
    "#Title and labels\n",
    "plt.title(\"Hungary:  Alcohol Consumption vs Life Expectancy 2000 - 2015\")\n",
    "plt.xlabel(\"Alcohol Consumption (in litres of pure alcohol)\")\n",
    "plt.ylabel(\"Life Expectancy\")\n",
    "\n",
    "plt.show()  \n",
    "plt.savefig(\"Images/Hungary_scatter_plot.png\")"
   ]
  },
  {
   "cell_type": "code",
   "execution_count": 24,
   "metadata": {},
   "outputs": [
    {
     "data": {
      "image/png": "[encoded data removed]",
      "text/plain": [
       "<Figure size 432x288 with 1 Axes>"
      ]
     },
     "metadata": {
      "needs_background": "light"
     },
     "output_type": "display_data"
    },
    {
     "data": {
      "text/plain": [
       "<Figure size 432x288 with 0 Axes>"
      ]
     },
     "metadata": {},
     "output_type": "display_data"
    }
   ],
   "source": [
    "plt.plot(Hungary_alcohol, Hungary_life_e, color=\"blue\")\n",
    "\n",
    "#Title and labels\n",
    "plt.title(\"Hungary - Life Expectancy vs Alcohol Consumption (Developed) 2000 - 2015\")\n",
    "plt.xlabel(\"Alcohol Consumption (in litres of pure alcohol)\")\n",
    "plt.ylabel(\"Life Expectancy (in years)\")\n",
    "\n",
    "plt.show()\n",
    "plt.savefig(\"Images/Hungary_line_graph.png\")"
   ]
  },
  {
   "cell_type": "code",
   "execution_count": null,
   "metadata": {},
   "outputs": [],
   "source": []
  }
 ],
 "metadata": {
  "kernelspec": {
   "display_name": "Python 3",
   "language": "python",
   "name": "python3"
  },
  "language_info": {
   "codemirror_mode": {
    "name": "ipython",
    "version": 3
   },
   "file_extension": ".py",
   "mimetype": "text/x-python",
   "name": "python",
   "nbconvert_exporter": "python",
   "pygments_lexer": "ipython3",
   "version": "3.8.5"
  }
 },
 "nbformat": 4,
 "nbformat_minor": 4
}
